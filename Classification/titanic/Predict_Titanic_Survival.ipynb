{
 "cells": [
  {
   "cell_type": "markdown",
   "metadata": {},
   "source": [
    "# Introduction\n",
    "\n",
    "This notebook is built to analyze and identify the factors that helped people to survive the horrible shipwreck.\n",
    "\n",
    "We also would use ML techniques to predict if a person would survive or not!!\n",
    "\n",
    "This notebook is inspired from [Titanic best working Classifier](https://www.kaggle.com/sinakhorami/titanic-best-working-classifier/data) and [Introduction to Ensembling/Stacking in Python](https://www.kaggle.com/arthurtok/introduction-to-ensembling-stacking-in-python)\n",
    "\n",
    " "
   ]
  },
  {
   "cell_type": "markdown",
   "metadata": {},
   "source": [
    "# Table of contents\n",
    "- [Data Information](#first-bullet)\n",
    "- [Importing the packages needed](#second-bullet)\n",
    "- [Load and prepare the data](#third-bullet)\n",
    "- [Analyzing NaN/Null values](#fourth-bullet)\n",
    "- [Analyzing the columns](#fifth-bullet)\n",
    "- [Data Cleaning](#sixth-bullet)\n",
    "- [One hot Encoding](#seventh-bullet)\n",
    "- [Splitting into train and test features](#eighth-bullet)\n",
    "- [Neural Network Architecture](#ninth-bullet)\n",
    "- [Evaluating the model](#tenth-bullet)\n",
    "- [Predicting the model](#eleventh-bullet)\n",
    "- [Other Classification techniques](#twelfth-bullet)\n",
    "- [Submission](#thirteenth-bullet)"
   ]
  },
  {
   "cell_type": "markdown",
   "metadata": {},
   "source": [
    "## Data Infromation <a class=\"anchor\" id=\"first-bullet\"></a>\n",
    "- Survival\t0 = No, 1 = Yes\n",
    "- pclass\tTicket class\t1 = 1st, 2 = 2nd, 3 = 3rd\n",
    "- sex\tMale/Female\t\n",
    "- Age\tAge in years\t\n",
    "- sibsp\t# of siblings / spouses aboard the Titanic\t\n",
    "- parch\t# of parents / children aboard the Titanic\t\n",
    "- ticket\tTicket number\t\n",
    "- fare\tPassenger fare\t\n",
    "- cabin\tCabin number\t\n",
    "- embarked\tPort of Embarkation\tC = Cherbourg, Q = Queenstown, S = Southampton\n"
   ]
  },
  {
   "cell_type": "markdown",
   "metadata": {},
   "source": [
    "## Importing the packages needed <a class=\"anchor\" id=\"second-bullet\"></a>"
   ]
  },
  {
   "cell_type": "code",
   "execution_count": 1,
   "metadata": {},
   "outputs": [],
   "source": [
    "%matplotlib inline\n",
    "%load_ext autoreload\n",
    "%autoreload 2\n",
    "%config InlineBackend.figure_format = 'retina'\n",
    "\n",
    "import numpy as np\n",
    "import pandas as pd\n",
    "import matplotlib.pyplot as plt\n",
    "import seaborn as sns \n",
    "import tensorflow as tf\n",
    "from math import pi"
   ]
  },
  {
   "cell_type": "markdown",
   "metadata": {},
   "source": [
    "## Load and prepare the data <a class=\"anchor\" id=\"third-bullet\"></a>\n"
   ]
  },
  {
   "cell_type": "code",
   "execution_count": 2,
   "metadata": {},
   "outputs": [],
   "source": [
    "train_data_path = 'train.csv'\n",
    "test_data_path = \"test.csv\"\n",
    "\n",
    "df = pd.read_csv(train_data_path)\n",
    "test_df = pd.read_csv(test_data_path)\n",
    "full_data = [df, test_df]\n"
   ]
  },
  {
   "cell_type": "code",
   "execution_count": 3,
   "metadata": {},
   "outputs": [
    {
     "name": "stdout",
     "output_type": "stream",
     "text": [
      "<class 'pandas.core.frame.DataFrame'>\n",
      "RangeIndex: 891 entries, 0 to 890\n",
      "Data columns (total 12 columns):\n",
      "PassengerId    891 non-null int64\n",
      "Survived       891 non-null int64\n",
      "Pclass         891 non-null int64\n",
      "Name           891 non-null object\n",
      "Sex            891 non-null object\n",
      "Age            714 non-null float64\n",
      "SibSp          891 non-null int64\n",
      "Parch          891 non-null int64\n",
      "Ticket         891 non-null object\n",
      "Fare           891 non-null float64\n",
      "Cabin          204 non-null object\n",
      "Embarked       889 non-null object\n",
      "dtypes: float64(2), int64(5), object(5)\n",
      "memory usage: 83.6+ KB\n"
     ]
    }
   ],
   "source": [
    "df.info()"
   ]
  },
  {
   "cell_type": "code",
   "execution_count": 4,
   "metadata": {},
   "outputs": [
    {
     "data": {
      "text/html": [
       "<div>\n",
       "<style scoped>\n",
       "    .dataframe tbody tr th:only-of-type {\n",
       "        vertical-align: middle;\n",
       "    }\n",
       "\n",
       "    .dataframe tbody tr th {\n",
       "        vertical-align: top;\n",
       "    }\n",
       "\n",
       "    .dataframe thead th {\n",
       "        text-align: right;\n",
       "    }\n",
       "</style>\n",
       "<table border=\"1\" class=\"dataframe\">\n",
       "  <thead>\n",
       "    <tr style=\"text-align: right;\">\n",
       "      <th></th>\n",
       "      <th>PassengerId</th>\n",
       "      <th>Survived</th>\n",
       "      <th>Pclass</th>\n",
       "      <th>Name</th>\n",
       "      <th>Sex</th>\n",
       "      <th>Age</th>\n",
       "      <th>SibSp</th>\n",
       "      <th>Parch</th>\n",
       "      <th>Ticket</th>\n",
       "      <th>Fare</th>\n",
       "      <th>Cabin</th>\n",
       "      <th>Embarked</th>\n",
       "    </tr>\n",
       "  </thead>\n",
       "  <tbody>\n",
       "    <tr>\n",
       "      <th>0</th>\n",
       "      <td>1</td>\n",
       "      <td>0</td>\n",
       "      <td>3</td>\n",
       "      <td>Braund, Mr. Owen Harris</td>\n",
       "      <td>male</td>\n",
       "      <td>22.0</td>\n",
       "      <td>1</td>\n",
       "      <td>0</td>\n",
       "      <td>A/5 21171</td>\n",
       "      <td>7.2500</td>\n",
       "      <td>NaN</td>\n",
       "      <td>S</td>\n",
       "    </tr>\n",
       "    <tr>\n",
       "      <th>1</th>\n",
       "      <td>2</td>\n",
       "      <td>1</td>\n",
       "      <td>1</td>\n",
       "      <td>Cumings, Mrs. John Bradley (Florence Briggs Th...</td>\n",
       "      <td>female</td>\n",
       "      <td>38.0</td>\n",
       "      <td>1</td>\n",
       "      <td>0</td>\n",
       "      <td>PC 17599</td>\n",
       "      <td>71.2833</td>\n",
       "      <td>C85</td>\n",
       "      <td>C</td>\n",
       "    </tr>\n",
       "    <tr>\n",
       "      <th>2</th>\n",
       "      <td>3</td>\n",
       "      <td>1</td>\n",
       "      <td>3</td>\n",
       "      <td>Heikkinen, Miss. Laina</td>\n",
       "      <td>female</td>\n",
       "      <td>26.0</td>\n",
       "      <td>0</td>\n",
       "      <td>0</td>\n",
       "      <td>STON/O2. 3101282</td>\n",
       "      <td>7.9250</td>\n",
       "      <td>NaN</td>\n",
       "      <td>S</td>\n",
       "    </tr>\n",
       "    <tr>\n",
       "      <th>3</th>\n",
       "      <td>4</td>\n",
       "      <td>1</td>\n",
       "      <td>1</td>\n",
       "      <td>Futrelle, Mrs. Jacques Heath (Lily May Peel)</td>\n",
       "      <td>female</td>\n",
       "      <td>35.0</td>\n",
       "      <td>1</td>\n",
       "      <td>0</td>\n",
       "      <td>113803</td>\n",
       "      <td>53.1000</td>\n",
       "      <td>C123</td>\n",
       "      <td>S</td>\n",
       "    </tr>\n",
       "    <tr>\n",
       "      <th>4</th>\n",
       "      <td>5</td>\n",
       "      <td>0</td>\n",
       "      <td>3</td>\n",
       "      <td>Allen, Mr. William Henry</td>\n",
       "      <td>male</td>\n",
       "      <td>35.0</td>\n",
       "      <td>0</td>\n",
       "      <td>0</td>\n",
       "      <td>373450</td>\n",
       "      <td>8.0500</td>\n",
       "      <td>NaN</td>\n",
       "      <td>S</td>\n",
       "    </tr>\n",
       "  </tbody>\n",
       "</table>\n",
       "</div>"
      ],
      "text/plain": [
       "   PassengerId  Survived  Pclass  \\\n",
       "0            1         0       3   \n",
       "1            2         1       1   \n",
       "2            3         1       3   \n",
       "3            4         1       1   \n",
       "4            5         0       3   \n",
       "\n",
       "                                                Name     Sex   Age  SibSp  \\\n",
       "0                            Braund, Mr. Owen Harris    male  22.0      1   \n",
       "1  Cumings, Mrs. John Bradley (Florence Briggs Th...  female  38.0      1   \n",
       "2                             Heikkinen, Miss. Laina  female  26.0      0   \n",
       "3       Futrelle, Mrs. Jacques Heath (Lily May Peel)  female  35.0      1   \n",
       "4                           Allen, Mr. William Henry    male  35.0      0   \n",
       "\n",
       "   Parch            Ticket     Fare Cabin Embarked  \n",
       "0      0         A/5 21171   7.2500   NaN        S  \n",
       "1      0          PC 17599  71.2833   C85        C  \n",
       "2      0  STON/O2. 3101282   7.9250   NaN        S  \n",
       "3      0            113803  53.1000  C123        S  \n",
       "4      0            373450   8.0500   NaN        S  "
      ]
     },
     "execution_count": 4,
     "metadata": {},
     "output_type": "execute_result"
    }
   ],
   "source": [
    "df.head()"
   ]
  },
  {
   "cell_type": "code",
   "execution_count": 5,
   "metadata": {},
   "outputs": [
    {
     "data": {
      "text/html": [
       "<div>\n",
       "<style scoped>\n",
       "    .dataframe tbody tr th:only-of-type {\n",
       "        vertical-align: middle;\n",
       "    }\n",
       "\n",
       "    .dataframe tbody tr th {\n",
       "        vertical-align: top;\n",
       "    }\n",
       "\n",
       "    .dataframe thead th {\n",
       "        text-align: right;\n",
       "    }\n",
       "</style>\n",
       "<table border=\"1\" class=\"dataframe\">\n",
       "  <thead>\n",
       "    <tr style=\"text-align: right;\">\n",
       "      <th></th>\n",
       "      <th>PassengerId</th>\n",
       "      <th>Survived</th>\n",
       "      <th>Pclass</th>\n",
       "      <th>Age</th>\n",
       "      <th>SibSp</th>\n",
       "      <th>Parch</th>\n",
       "      <th>Fare</th>\n",
       "    </tr>\n",
       "  </thead>\n",
       "  <tbody>\n",
       "    <tr>\n",
       "      <th>count</th>\n",
       "      <td>891.000000</td>\n",
       "      <td>891.000000</td>\n",
       "      <td>891.000000</td>\n",
       "      <td>714.000000</td>\n",
       "      <td>891.000000</td>\n",
       "      <td>891.000000</td>\n",
       "      <td>891.000000</td>\n",
       "    </tr>\n",
       "    <tr>\n",
       "      <th>mean</th>\n",
       "      <td>446.000000</td>\n",
       "      <td>0.383838</td>\n",
       "      <td>2.308642</td>\n",
       "      <td>29.699118</td>\n",
       "      <td>0.523008</td>\n",
       "      <td>0.381594</td>\n",
       "      <td>32.204208</td>\n",
       "    </tr>\n",
       "    <tr>\n",
       "      <th>std</th>\n",
       "      <td>257.353842</td>\n",
       "      <td>0.486592</td>\n",
       "      <td>0.836071</td>\n",
       "      <td>14.526497</td>\n",
       "      <td>1.102743</td>\n",
       "      <td>0.806057</td>\n",
       "      <td>49.693429</td>\n",
       "    </tr>\n",
       "    <tr>\n",
       "      <th>min</th>\n",
       "      <td>1.000000</td>\n",
       "      <td>0.000000</td>\n",
       "      <td>1.000000</td>\n",
       "      <td>0.420000</td>\n",
       "      <td>0.000000</td>\n",
       "      <td>0.000000</td>\n",
       "      <td>0.000000</td>\n",
       "    </tr>\n",
       "    <tr>\n",
       "      <th>25%</th>\n",
       "      <td>223.500000</td>\n",
       "      <td>0.000000</td>\n",
       "      <td>2.000000</td>\n",
       "      <td>20.125000</td>\n",
       "      <td>0.000000</td>\n",
       "      <td>0.000000</td>\n",
       "      <td>7.910400</td>\n",
       "    </tr>\n",
       "    <tr>\n",
       "      <th>50%</th>\n",
       "      <td>446.000000</td>\n",
       "      <td>0.000000</td>\n",
       "      <td>3.000000</td>\n",
       "      <td>28.000000</td>\n",
       "      <td>0.000000</td>\n",
       "      <td>0.000000</td>\n",
       "      <td>14.454200</td>\n",
       "    </tr>\n",
       "    <tr>\n",
       "      <th>75%</th>\n",
       "      <td>668.500000</td>\n",
       "      <td>1.000000</td>\n",
       "      <td>3.000000</td>\n",
       "      <td>38.000000</td>\n",
       "      <td>1.000000</td>\n",
       "      <td>0.000000</td>\n",
       "      <td>31.000000</td>\n",
       "    </tr>\n",
       "    <tr>\n",
       "      <th>max</th>\n",
       "      <td>891.000000</td>\n",
       "      <td>1.000000</td>\n",
       "      <td>3.000000</td>\n",
       "      <td>80.000000</td>\n",
       "      <td>8.000000</td>\n",
       "      <td>6.000000</td>\n",
       "      <td>512.329200</td>\n",
       "    </tr>\n",
       "  </tbody>\n",
       "</table>\n",
       "</div>"
      ],
      "text/plain": [
       "       PassengerId    Survived      Pclass         Age       SibSp  \\\n",
       "count   891.000000  891.000000  891.000000  714.000000  891.000000   \n",
       "mean    446.000000    0.383838    2.308642   29.699118    0.523008   \n",
       "std     257.353842    0.486592    0.836071   14.526497    1.102743   \n",
       "min       1.000000    0.000000    1.000000    0.420000    0.000000   \n",
       "25%     223.500000    0.000000    2.000000   20.125000    0.000000   \n",
       "50%     446.000000    0.000000    3.000000   28.000000    0.000000   \n",
       "75%     668.500000    1.000000    3.000000   38.000000    1.000000   \n",
       "max     891.000000    1.000000    3.000000   80.000000    8.000000   \n",
       "\n",
       "            Parch        Fare  \n",
       "count  891.000000  891.000000  \n",
       "mean     0.381594   32.204208  \n",
       "std      0.806057   49.693429  \n",
       "min      0.000000    0.000000  \n",
       "25%      0.000000    7.910400  \n",
       "50%      0.000000   14.454200  \n",
       "75%      0.000000   31.000000  \n",
       "max      6.000000  512.329200  "
      ]
     },
     "execution_count": 5,
     "metadata": {},
     "output_type": "execute_result"
    }
   ],
   "source": [
    "df.describe()"
   ]
  },
  {
   "cell_type": "markdown",
   "metadata": {},
   "source": [
    "## Analyzing NaN/Null values <a class=\"anchor\" id=\"fourth-bullet\"></a>\n",
    "\n",
    "- Find out how many NaN/Null values are present in the data set\n",
    "- Remove them if they are a trival % "
   ]
  },
  {
   "cell_type": "code",
   "execution_count": 6,
   "metadata": {},
   "outputs": [],
   "source": [
    "def find_nan_percentage(df):\n",
    "    total_row_count = df.shape[0]\n",
    "    non_nan_row_count =  df.dropna().shape[0]\n",
    "    nan_row_count = total_row_count - non_nan_row_count\n",
    "    \n",
    "    print(\"Total number of DATA rows\", total_row_count)\n",
    "    print(\"Total number of DATA rows that have NaN/Null values: \", nan_row_count)\n",
    "    print(\"Total numver of DATA rows that doesn't have NaN/Null values\", non_nan_row_count)\n",
    "    \n",
    "    #Draw a pie chart to represent the above values\n",
    "    plt.figure(figsize=(8,6))\n",
    "    labels = 'Fully filled Rows', 'NaN Rows'\n",
    "    sizes = [non_nan_row_count, nan_row_count]\n",
    "    colors = ['skyblue', 'yellowgreen']\n",
    "    explode =(0.1, 0)\n",
    "    plt.pie(sizes, labels=labels, colors=colors, autopct='%1.2f%%', shadow=True, explode=explode)\n",
    "    return (nan_row_count/total_row_count)*100\n"
   ]
  },
  {
   "cell_type": "code",
   "execution_count": 7,
   "metadata": {},
   "outputs": [
    {
     "name": "stdout",
     "output_type": "stream",
     "text": [
      "Total number of DATA rows 891\n",
      "Total number of DATA rows that have NaN/Null values:  708\n",
      "Total numver of DATA rows that doesn't have NaN/Null values 183\n",
      "79.46% of the data have NaN values\n"
     ]
    },
    {
     "data": {
      "image/png": "[encoded data removed]",
      "text/plain": [
       "<Figure size 576x432 with 1 Axes>"
      ]
     },
     "metadata": {
      "image/png": {
       "height": 344,
       "width": 385
      }
     },
     "output_type": "display_data"
    }
   ],
   "source": [
    "nan_percentage = find_nan_percentage(df)\n",
    "print(\"{0:.2f}% of the data have NaN values\".format(nan_percentage))"
   ]
  },
  {
   "cell_type": "markdown",
   "metadata": {},
   "source": [
    "### Inference\n",
    "\n",
    "- Around 80% of the rows aren't completely filled. So we can't omit all of them\n",
    "- We need to further dive into the data and analyze more"
   ]
  },
  {
   "cell_type": "markdown",
   "metadata": {},
   "source": [
    "## Analyzing the columns  <a class=\"anchor\" id=\"fifth-bullet\"></a>"
   ]
  },
  {
   "cell_type": "code",
   "execution_count": 8,
   "metadata": {},
   "outputs": [
    {
     "data": {
      "text/plain": [
       "Index(['PassengerId', 'Survived', 'Pclass', 'Name', 'Sex', 'Age', 'SibSp',\n",
       "       'Parch', 'Ticket', 'Fare', 'Cabin', 'Embarked'],\n",
       "      dtype='object')"
      ]
     },
     "execution_count": 8,
     "metadata": {},
     "output_type": "execute_result"
    }
   ],
   "source": [
    "df.columns"
   ]
  },
  {
   "cell_type": "markdown",
   "metadata": {},
   "source": [
    "### 1. Pclass"
   ]
  },
  {
   "cell_type": "code",
   "execution_count": 9,
   "metadata": {},
   "outputs": [
    {
     "name": "stdout",
     "output_type": "stream",
     "text": [
      "Number of rows with NaN is:  0\n",
      "   Pclass  Survived\n",
      "0       1  0.629630\n",
      "1       2  0.472826\n",
      "2       3  0.242363\n"
     ]
    },
    {
     "data": {
      "image/png": "[encoded data removed]",
      "text/plain": [
       "<Figure size 1440x720 with 1 Axes>"
      ]
     },
     "metadata": {
      "image/png": {
       "height": 586,
       "width": 1171
      },
      "needs_background": "light"
     },
     "output_type": "display_data"
    }
   ],
   "source": [
    "print(\"Number of rows with NaN is: \", df.Pclass.isna().sum())\n",
    "pd.crosstab(df.Pclass, df.Survived).plot(kind='bar', figsize = (20,10))\n",
    "plt.xlabel(\"Class\")\n",
    "plt.ylabel(\"Survival frequency\")\n",
    "print (df[['Pclass', 'Survived']].groupby(['Pclass'], as_index=False).mean())\n"
   ]
  },
  {
   "cell_type": "markdown",
   "metadata": {},
   "source": [
    "### Inference\n",
    "The higher the class, the higher the ratio of survival. It's quite clear"
   ]
  },
  {
   "cell_type": "markdown",
   "metadata": {},
   "source": [
    "### 2.Sex"
   ]
  },
  {
   "cell_type": "code",
   "execution_count": 10,
   "metadata": {},
   "outputs": [
    {
     "name": "stdout",
     "output_type": "stream",
     "text": [
      "Number of rows with NaN is:  0\n",
      "      Sex  Survived\n",
      "0  female  0.742038\n",
      "1    male  0.188908\n"
     ]
    },
    {
     "data": {
      "image/png": "[encoded data removed]",
      "text/plain": [
       "<Figure size 1440x720 with 1 Axes>"
      ]
     },
     "metadata": {
      "image/png": {
       "height": 614,
       "width": 1158
      },
      "needs_background": "light"
     },
     "output_type": "display_data"
    }
   ],
   "source": [
    "print(\"Number of rows with NaN is: \", df.Sex.isna().sum())\n",
    "pd.crosstab(df.Sex, df.Survived).plot(kind='bar', figsize = (20,10))\n",
    "print (df[['Sex', 'Survived']].groupby(['Sex'], as_index=False).mean())"
   ]
  },
  {
   "cell_type": "markdown",
   "metadata": {},
   "source": [
    "### Inference\n",
    "Quite certain that females survived more than males"
   ]
  },
  {
   "cell_type": "markdown",
   "metadata": {},
   "source": [
    "### 3. Total Family"
   ]
  },
  {
   "cell_type": "code",
   "execution_count": 11,
   "metadata": {},
   "outputs": [
    {
     "name": "stdout",
     "output_type": "stream",
     "text": [
      "   FamilySize  Survived\n",
      "0           1  0.303538\n",
      "1           2  0.552795\n",
      "2           3  0.578431\n",
      "3           4  0.724138\n",
      "4           5  0.200000\n",
      "5           6  0.136364\n",
      "6           7  0.333333\n",
      "7           8  0.000000\n",
      "8          11  0.000000\n"
     ]
    },
    {
     "data": {
      "text/plain": [
       "<matplotlib.axes._subplots.AxesSubplot at 0x1a3950f978>"
      ]
     },
     "execution_count": 11,
     "metadata": {},
     "output_type": "execute_result"
    },
    {
     "data": {
      "image/png": "[encoded data removed]",
      "text/plain": [
       "<Figure size 720x720 with 1 Axes>"
      ]
     },
     "metadata": {
      "image/png": {
       "height": 593,
       "width": 600
      },
      "needs_background": "light"
     },
     "output_type": "display_data"
    }
   ],
   "source": [
    "for dataset in full_data:\n",
    "    dataset['FamilySize'] = dataset['SibSp'] + dataset['Parch'] + 1\n",
    "print (df[['FamilySize', 'Survived']].groupby(['FamilySize'], as_index=False).mean())\n",
    "pd.crosstab(df.FamilySize, df.Survived).plot(kind='bar', figsize=(10,10))"
   ]
  },
  {
   "cell_type": "markdown",
   "metadata": {},
   "source": [
    "### Inference\n",
    "This plot was made to check if families were saved or survived more than induviduals. It doesn't look like that"
   ]
  },
  {
   "cell_type": "markdown",
   "metadata": {},
   "source": [
    "### 4. Name"
   ]
  },
  {
   "cell_type": "markdown",
   "metadata": {},
   "source": [
    "#### - First, let us see how the names are listed"
   ]
  },
  {
   "cell_type": "code",
   "execution_count": 12,
   "metadata": {},
   "outputs": [
    {
     "name": "stdout",
     "output_type": "stream",
     "text": [
      "Number of rows with NaN is:  0\n"
     ]
    },
    {
     "data": {
      "text/plain": [
       "0                              Braund, Mr. Owen Harris\n",
       "1    Cumings, Mrs. John Bradley (Florence Briggs Th...\n",
       "2                               Heikkinen, Miss. Laina\n",
       "3         Futrelle, Mrs. Jacques Heath (Lily May Peel)\n",
       "4                             Allen, Mr. William Henry\n",
       "Name: Name, dtype: object"
      ]
     },
     "execution_count": 12,
     "metadata": {},
     "output_type": "execute_result"
    }
   ],
   "source": [
    "print(\"Number of rows with NaN is: \", df.Name.isna().sum())\n",
    "df.Name.head(5)"
   ]
  },
  {
   "cell_type": "markdown",
   "metadata": {},
   "source": [
    "#### - We will get the title alone to see if they make any value"
   ]
  },
  {
   "cell_type": "code",
   "execution_count": 13,
   "metadata": {},
   "outputs": [],
   "source": [
    "import re\n",
    "def get_title(name):\n",
    "    title_search = re.search(' ([A-Za-z]+)\\.', name)\n",
    "    # If the title exists, extract and return it.\n",
    "    if title_search:\n",
    "        return title_search.group(1)\n",
    "    return \"\"\n",
    "\n",
    "for dataset in full_data:\n",
    "    dataset['Title'] = dataset['Name'].apply(get_title)"
   ]
  },
  {
   "cell_type": "code",
   "execution_count": 14,
   "metadata": {},
   "outputs": [
    {
     "data": {
      "text/html": [
       "<div>\n",
       "<style scoped>\n",
       "    .dataframe tbody tr th:only-of-type {\n",
       "        vertical-align: middle;\n",
       "    }\n",
       "\n",
       "    .dataframe tbody tr th {\n",
       "        vertical-align: top;\n",
       "    }\n",
       "\n",
       "    .dataframe thead th {\n",
       "        text-align: right;\n",
       "    }\n",
       "</style>\n",
       "<table border=\"1\" class=\"dataframe\">\n",
       "  <thead>\n",
       "    <tr style=\"text-align: right;\">\n",
       "      <th>Sex</th>\n",
       "      <th>female</th>\n",
       "      <th>male</th>\n",
       "    </tr>\n",
       "    <tr>\n",
       "      <th>Title</th>\n",
       "      <th></th>\n",
       "      <th></th>\n",
       "    </tr>\n",
       "  </thead>\n",
       "  <tbody>\n",
       "    <tr>\n",
       "      <th>Capt</th>\n",
       "      <td>0</td>\n",
       "      <td>1</td>\n",
       "    </tr>\n",
       "    <tr>\n",
       "      <th>Col</th>\n",
       "      <td>0</td>\n",
       "      <td>2</td>\n",
       "    </tr>\n",
       "    <tr>\n",
       "      <th>Countess</th>\n",
       "      <td>1</td>\n",
       "      <td>0</td>\n",
       "    </tr>\n",
       "    <tr>\n",
       "      <th>Don</th>\n",
       "      <td>0</td>\n",
       "      <td>1</td>\n",
       "    </tr>\n",
       "    <tr>\n",
       "      <th>Dr</th>\n",
       "      <td>1</td>\n",
       "      <td>6</td>\n",
       "    </tr>\n",
       "    <tr>\n",
       "      <th>Jonkheer</th>\n",
       "      <td>0</td>\n",
       "      <td>1</td>\n",
       "    </tr>\n",
       "    <tr>\n",
       "      <th>Lady</th>\n",
       "      <td>1</td>\n",
       "      <td>0</td>\n",
       "    </tr>\n",
       "    <tr>\n",
       "      <th>Major</th>\n",
       "      <td>0</td>\n",
       "      <td>2</td>\n",
       "    </tr>\n",
       "    <tr>\n",
       "      <th>Master</th>\n",
       "      <td>0</td>\n",
       "      <td>40</td>\n",
       "    </tr>\n",
       "    <tr>\n",
       "      <th>Miss</th>\n",
       "      <td>182</td>\n",
       "      <td>0</td>\n",
       "    </tr>\n",
       "    <tr>\n",
       "      <th>Mlle</th>\n",
       "      <td>2</td>\n",
       "      <td>0</td>\n",
       "    </tr>\n",
       "    <tr>\n",
       "      <th>Mme</th>\n",
       "      <td>1</td>\n",
       "      <td>0</td>\n",
       "    </tr>\n",
       "    <tr>\n",
       "      <th>Mr</th>\n",
       "      <td>0</td>\n",
       "      <td>517</td>\n",
       "    </tr>\n",
       "    <tr>\n",
       "      <th>Mrs</th>\n",
       "      <td>125</td>\n",
       "      <td>0</td>\n",
       "    </tr>\n",
       "    <tr>\n",
       "      <th>Ms</th>\n",
       "      <td>1</td>\n",
       "      <td>0</td>\n",
       "    </tr>\n",
       "    <tr>\n",
       "      <th>Rev</th>\n",
       "      <td>0</td>\n",
       "      <td>6</td>\n",
       "    </tr>\n",
       "    <tr>\n",
       "      <th>Sir</th>\n",
       "      <td>0</td>\n",
       "      <td>1</td>\n",
       "    </tr>\n",
       "  </tbody>\n",
       "</table>\n",
       "</div>"
      ],
      "text/plain": [
       "Sex       female  male\n",
       "Title                 \n",
       "Capt           0     1\n",
       "Col            0     2\n",
       "Countess       1     0\n",
       "Don            0     1\n",
       "Dr             1     6\n",
       "Jonkheer       0     1\n",
       "Lady           1     0\n",
       "Major          0     2\n",
       "Master         0    40\n",
       "Miss         182     0\n",
       "Mlle           2     0\n",
       "Mme            1     0\n",
       "Mr             0   517\n",
       "Mrs          125     0\n",
       "Ms             1     0\n",
       "Rev            0     6\n",
       "Sir            0     1"
      ]
     },
     "execution_count": 14,
     "metadata": {},
     "output_type": "execute_result"
    }
   ],
   "source": [
    "pd.crosstab(df['Title'], df['Sex'])"
   ]
  },
  {
   "cell_type": "markdown",
   "metadata": {},
   "source": [
    "#### - We coud generalize all the trivial titles to a common basket"
   ]
  },
  {
   "cell_type": "code",
   "execution_count": 15,
   "metadata": {},
   "outputs": [
    {
     "name": "stdout",
     "output_type": "stream",
     "text": [
      "    Title  Survived\n",
      "0  Master  0.575000\n",
      "1    Miss  0.702703\n",
      "2      Mr  0.156673\n",
      "3     Mrs  0.793651\n",
      "4    Rare  0.347826\n"
     ]
    }
   ],
   "source": [
    "for dataset in full_data:\n",
    "    dataset['Title'] = dataset['Title'].replace(['Lady', 'Countess','Capt', 'Col',\\\n",
    "    'Don', 'Dr', 'Major', 'Rev', 'Sir', 'Jonkheer', 'Dona'], 'Rare')\n",
    "\n",
    "    dataset['Title'] = dataset['Title'].replace('Mlle', 'Miss')\n",
    "    dataset['Title'] = dataset['Title'].replace('Ms', 'Miss')\n",
    "    dataset['Title'] = dataset['Title'].replace('Mme', 'Mrs')\n",
    "\n",
    "print (df[['Title', 'Survived']].groupby(['Title'], as_index=False).mean())"
   ]
  },
  {
   "cell_type": "markdown",
   "metadata": {},
   "source": [
    "### 5. Embarked"
   ]
  },
  {
   "cell_type": "code",
   "execution_count": 16,
   "metadata": {},
   "outputs": [
    {
     "name": "stdout",
     "output_type": "stream",
     "text": [
      "Number of rows with NaN is:  2\n"
     ]
    }
   ],
   "source": [
    "print(\"Number of rows with NaN is: \", df.Embarked.isna().sum())"
   ]
  },
  {
   "cell_type": "code",
   "execution_count": 17,
   "metadata": {},
   "outputs": [
    {
     "data": {
      "text/plain": [
       "S    644\n",
       "C    168\n",
       "Q     77\n",
       "Name: Embarked, dtype: int64"
      ]
     },
     "execution_count": 17,
     "metadata": {},
     "output_type": "execute_result"
    }
   ],
   "source": [
    "df.Embarked.value_counts()"
   ]
  },
  {
   "cell_type": "markdown",
   "metadata": {},
   "source": [
    "#### We would replace the NaN values with the most common Embarked place -- S"
   ]
  },
  {
   "cell_type": "code",
   "execution_count": 18,
   "metadata": {},
   "outputs": [],
   "source": [
    "for dataset in full_data:\n",
    "    dataset['Embarked'] = dataset['Embarked'].fillna('S')"
   ]
  },
  {
   "cell_type": "code",
   "execution_count": 19,
   "metadata": {},
   "outputs": [
    {
     "data": {
      "text/plain": [
       "<matplotlib.axes._subplots.AxesSubplot at 0x1a36ae7240>"
      ]
     },
     "execution_count": 19,
     "metadata": {},
     "output_type": "execute_result"
    },
    {
     "data": {
      "image/png": "[encoded data removed]",
      "text/plain": [
       "<Figure size 720x720 with 1 Axes>"
      ]
     },
     "metadata": {
      "image/png": {
       "height": 588,
       "width": 600
      },
      "needs_background": "light"
     },
     "output_type": "display_data"
    }
   ],
   "source": [
    "pd.crosstab(df.Embarked, df.Survived).plot(kind='bar', figsize=(10,10))"
   ]
  },
  {
   "cell_type": "markdown",
   "metadata": {},
   "source": [
    "### Inference\n",
    "\n",
    "People who started from Cherbourg survived more than people who started from anywehre else!!!"
   ]
  },
  {
   "cell_type": "markdown",
   "metadata": {},
   "source": [
    "### 6. Fare"
   ]
  },
  {
   "cell_type": "code",
   "execution_count": 20,
   "metadata": {},
   "outputs": [
    {
     "name": "stdout",
     "output_type": "stream",
     "text": [
      "Number of rows with NaN is:  0\n"
     ]
    },
    {
     "data": {
      "text/plain": [
       "<matplotlib.axes._subplots.AxesSubplot at 0x1a36b40550>"
      ]
     },
     "execution_count": 20,
     "metadata": {},
     "output_type": "execute_result"
    },
    {
     "data": {
      "image/png": "[encoded data removed]",
      "text/plain": [
       "<Figure size 432x288 with 1 Axes>"
      ]
     },
     "metadata": {
      "image/png": {
       "height": 263,
       "width": 387
      },
      "needs_background": "light"
     },
     "output_type": "display_data"
    }
   ],
   "source": [
    "print(\"Number of rows with NaN is: \", df.Fare.isna().sum())\n",
    "df.plot(kind='scatter', x='Fare', y='Survived')\n"
   ]
  },
  {
   "cell_type": "markdown",
   "metadata": {},
   "source": [
    "### Inference\n",
    "The scatter plot tells that fare doesn't make any influence on survival "
   ]
  },
  {
   "cell_type": "markdown",
   "metadata": {},
   "source": [
    "#### - Categorize the fare and check if it makes more sense"
   ]
  },
  {
   "cell_type": "code",
   "execution_count": 21,
   "metadata": {},
   "outputs": [
    {
     "name": "stdout",
     "output_type": "stream",
     "text": [
      "   CategoricalFare  Survived\n",
      "0   (-0.001, 7.91]  0.197309\n",
      "1   (7.91, 14.454]  0.303571\n",
      "2   (14.454, 31.0]  0.454955\n",
      "3  (31.0, 512.329]  0.581081\n"
     ]
    }
   ],
   "source": [
    "for dataset in full_data:\n",
    "    dataset['Fare'] = dataset['Fare'].fillna(df['Fare'].median())\n",
    "df['CategoricalFare'] = pd.qcut(df['Fare'], 4)\n",
    "print (df[['CategoricalFare', 'Survived']].groupby(['CategoricalFare'], as_index=False).mean())"
   ]
  },
  {
   "cell_type": "code",
   "execution_count": 22,
   "metadata": {},
   "outputs": [
    {
     "data": {
      "text/plain": [
       "<matplotlib.axes._subplots.AxesSubplot at 0x1a36bb8400>"
      ]
     },
     "execution_count": 22,
     "metadata": {},
     "output_type": "execute_result"
    },
    {
     "data": {
      "image/png": "[encoded data removed]",
      "text/plain": [
       "<Figure size 720x720 with 1 Axes>"
      ]
     },
     "metadata": {
      "image/png": {
       "height": 658,
       "width": 600
      },
      "needs_background": "light"
     },
     "output_type": "display_data"
    }
   ],
   "source": [
    "pd.crosstab(df.CategoricalFare,df.Survived).plot(kind='bar', figsize=(10,10))"
   ]
  },
  {
   "cell_type": "markdown",
   "metadata": {},
   "source": [
    "### Interference\n",
    "Higher the category, higher the survival rate!!!"
   ]
  },
  {
   "cell_type": "markdown",
   "metadata": {},
   "source": [
    "### 7. Age"
   ]
  },
  {
   "cell_type": "code",
   "execution_count": 23,
   "metadata": {},
   "outputs": [
    {
     "name": "stdout",
     "output_type": "stream",
     "text": [
      "Number of rows with NaN is:  177\n"
     ]
    }
   ],
   "source": [
    "print(\"Number of rows with NaN is: \", df.Age.isna().sum())"
   ]
  },
  {
   "cell_type": "markdown",
   "metadata": {},
   "source": [
    "- We have plenty of missing values in Age section\n",
    "- We generate random numbers between (mean - std) and (mean + std)\n",
    "- We then categorize the age in ranges"
   ]
  },
  {
   "cell_type": "code",
   "execution_count": 24,
   "metadata": {},
   "outputs": [
    {
     "name": "stdout",
     "output_type": "stream",
     "text": [
      "  CategoricalAge  Survived\n",
      "0  (-0.08, 16.0]  0.487395\n",
      "1   (16.0, 32.0]  0.355204\n",
      "2   (32.0, 48.0]  0.384000\n",
      "3   (48.0, 64.0]  0.434783\n",
      "4   (64.0, 80.0]  0.090909\n"
     ]
    },
    {
     "name": "stderr",
     "output_type": "stream",
     "text": [
      "/Users/sganesh/anaconda3/envs/tensorflow/lib/python3.5/site-packages/ipykernel_launcher.py:7: SettingWithCopyWarning: \n",
      "A value is trying to be set on a copy of a slice from a DataFrame\n",
      "\n",
      "See the caveats in the documentation: http://pandas.pydata.org/pandas-docs/stable/indexing.html#indexing-view-versus-copy\n",
      "  import sys\n"
     ]
    },
    {
     "data": {
      "text/plain": [
       "<matplotlib.axes._subplots.AxesSubplot at 0x1a36a40940>"
      ]
     },
     "execution_count": 24,
     "metadata": {},
     "output_type": "execute_result"
    },
    {
     "data": {
      "image/png": "[encoded data removed]",
      "text/plain": [
       "<Figure size 720x720 with 1 Axes>"
      ]
     },
     "metadata": {
      "image/png": {
       "height": 642,
       "width": 600
      },
      "needs_background": "light"
     },
     "output_type": "display_data"
    }
   ],
   "source": [
    "for dataset in full_data:\n",
    "    age_avg        = dataset['Age'].mean()\n",
    "    age_std        = dataset['Age'].std()\n",
    "    age_null_count = dataset['Age'].isnull().sum()\n",
    "    \n",
    "    age_null_random_list = np.random.randint(age_avg - age_std, age_avg + age_std, size=age_null_count)\n",
    "    dataset['Age'][np.isnan(dataset['Age'])] = age_null_random_list\n",
    "    dataset['Age'] = dataset['Age'].astype(int)\n",
    "    \n",
    "df['CategoricalAge'] = pd.cut(df['Age'], 5)\n",
    "\n",
    "print (df[['CategoricalAge', 'Survived']].groupby(['CategoricalAge'], as_index=False).mean())\n",
    "pd.crosstab(df.CategoricalAge, df.Survived).plot(kind='bar', figsize=(10,10))"
   ]
  },
  {
   "cell_type": "markdown",
   "metadata": {},
   "source": [
    "### Inference\n",
    "The survival rate was certainly high for youngsters"
   ]
  },
  {
   "cell_type": "markdown",
   "metadata": {},
   "source": [
    "## Data Cleaning  <a class=\"anchor\" id=\"sixth-bullet\"></a>"
   ]
  },
  {
   "cell_type": "code",
   "execution_count": 25,
   "metadata": {},
   "outputs": [],
   "source": [
    "for dataset in full_data:\n",
    "    # Mapping Sex\n",
    "    name_map = {'female': 0, 'male': 1}\n",
    "    dataset['Sex'] = dataset['Sex'].map(name_map).astype(int)\n",
    "    \n",
    "    # Mapping titles\n",
    "    title_map = {\"Mr\": 1, \"Miss\": 2, \"Mrs\": 3, \"Master\": 4, \"Rare\": 5}\n",
    "    dataset['Title'] = dataset['Title'].map(title_map)\n",
    "    dataset['Title'] = dataset['Title'].fillna(0)\n",
    "    \n",
    "    # Mapping Embarked\n",
    "    embarked_map = {'S': 0, 'C': 1, 'Q': 2}\n",
    "    #dataset['Embarked'] = dataset['Embarked'].map(embarked_map).astype(int)\n",
    "    dataset['Embarked'] = dataset['Embarked'].map(embarked_map).astype(int)\n",
    "    \n",
    "    # Mapping Fare\n",
    "    dataset.loc[ dataset['Fare'] <= 7.91, 'Fare'] = 0\n",
    "    dataset.loc[(dataset['Fare'] > 7.91) & (dataset['Fare'] <= 14.454), 'Fare'] = 1\n",
    "    dataset.loc[(dataset['Fare'] > 14.454) & (dataset['Fare'] <= 31), 'Fare']   = 2\n",
    "    dataset.loc[ dataset['Fare'] > 31, 'Fare']  = 3\n",
    "    dataset['Fare'] = dataset['Fare'].astype(int)\n",
    "    \n",
    "    # Mapping Age\n",
    "    dataset.loc[ dataset['Age'] <= 16, 'Age'] = 0\n",
    "    dataset.loc[(dataset['Age'] > 16) & (dataset['Age'] <= 32), 'Age'] = 1\n",
    "    dataset.loc[(dataset['Age'] > 32) & (dataset['Age'] <= 48), 'Age'] = 2\n",
    "    dataset.loc[(dataset['Age'] > 48) & (dataset['Age'] <= 64), 'Age'] = 3\n",
    "    dataset.loc[ dataset['Age'] > 64, 'Age']                           = 4"
   ]
  },
  {
   "cell_type": "code",
   "execution_count": 26,
   "metadata": {},
   "outputs": [
    {
     "data": {
      "text/html": [
       "<div>\n",
       "<style scoped>\n",
       "    .dataframe tbody tr th:only-of-type {\n",
       "        vertical-align: middle;\n",
       "    }\n",
       "\n",
       "    .dataframe tbody tr th {\n",
       "        vertical-align: top;\n",
       "    }\n",
       "\n",
       "    .dataframe thead th {\n",
       "        text-align: right;\n",
       "    }\n",
       "</style>\n",
       "<table border=\"1\" class=\"dataframe\">\n",
       "  <thead>\n",
       "    <tr style=\"text-align: right;\">\n",
       "      <th></th>\n",
       "      <th>PassengerId</th>\n",
       "      <th>Survived</th>\n",
       "      <th>Pclass</th>\n",
       "      <th>Name</th>\n",
       "      <th>Sex</th>\n",
       "      <th>Age</th>\n",
       "      <th>SibSp</th>\n",
       "      <th>Parch</th>\n",
       "      <th>Ticket</th>\n",
       "      <th>Fare</th>\n",
       "      <th>Cabin</th>\n",
       "      <th>Embarked</th>\n",
       "      <th>FamilySize</th>\n",
       "      <th>Title</th>\n",
       "      <th>CategoricalFare</th>\n",
       "      <th>CategoricalAge</th>\n",
       "    </tr>\n",
       "  </thead>\n",
       "  <tbody>\n",
       "    <tr>\n",
       "      <th>0</th>\n",
       "      <td>1</td>\n",
       "      <td>0</td>\n",
       "      <td>3</td>\n",
       "      <td>Braund, Mr. Owen Harris</td>\n",
       "      <td>1</td>\n",
       "      <td>1</td>\n",
       "      <td>1</td>\n",
       "      <td>0</td>\n",
       "      <td>A/5 21171</td>\n",
       "      <td>0</td>\n",
       "      <td>NaN</td>\n",
       "      <td>0</td>\n",
       "      <td>2</td>\n",
       "      <td>1</td>\n",
       "      <td>(-0.001, 7.91]</td>\n",
       "      <td>(16.0, 32.0]</td>\n",
       "    </tr>\n",
       "    <tr>\n",
       "      <th>1</th>\n",
       "      <td>2</td>\n",
       "      <td>1</td>\n",
       "      <td>1</td>\n",
       "      <td>Cumings, Mrs. John Bradley (Florence Briggs Th...</td>\n",
       "      <td>0</td>\n",
       "      <td>2</td>\n",
       "      <td>1</td>\n",
       "      <td>0</td>\n",
       "      <td>PC 17599</td>\n",
       "      <td>3</td>\n",
       "      <td>C85</td>\n",
       "      <td>1</td>\n",
       "      <td>2</td>\n",
       "      <td>3</td>\n",
       "      <td>(31.0, 512.329]</td>\n",
       "      <td>(32.0, 48.0]</td>\n",
       "    </tr>\n",
       "    <tr>\n",
       "      <th>2</th>\n",
       "      <td>3</td>\n",
       "      <td>1</td>\n",
       "      <td>3</td>\n",
       "      <td>Heikkinen, Miss. Laina</td>\n",
       "      <td>0</td>\n",
       "      <td>1</td>\n",
       "      <td>0</td>\n",
       "      <td>0</td>\n",
       "      <td>STON/O2. 3101282</td>\n",
       "      <td>1</td>\n",
       "      <td>NaN</td>\n",
       "      <td>0</td>\n",
       "      <td>1</td>\n",
       "      <td>2</td>\n",
       "      <td>(7.91, 14.454]</td>\n",
       "      <td>(16.0, 32.0]</td>\n",
       "    </tr>\n",
       "    <tr>\n",
       "      <th>3</th>\n",
       "      <td>4</td>\n",
       "      <td>1</td>\n",
       "      <td>1</td>\n",
       "      <td>Futrelle, Mrs. Jacques Heath (Lily May Peel)</td>\n",
       "      <td>0</td>\n",
       "      <td>2</td>\n",
       "      <td>1</td>\n",
       "      <td>0</td>\n",
       "      <td>113803</td>\n",
       "      <td>3</td>\n",
       "      <td>C123</td>\n",
       "      <td>0</td>\n",
       "      <td>2</td>\n",
       "      <td>3</td>\n",
       "      <td>(31.0, 512.329]</td>\n",
       "      <td>(32.0, 48.0]</td>\n",
       "    </tr>\n",
       "    <tr>\n",
       "      <th>4</th>\n",
       "      <td>5</td>\n",
       "      <td>0</td>\n",
       "      <td>3</td>\n",
       "      <td>Allen, Mr. William Henry</td>\n",
       "      <td>1</td>\n",
       "      <td>2</td>\n",
       "      <td>0</td>\n",
       "      <td>0</td>\n",
       "      <td>373450</td>\n",
       "      <td>1</td>\n",
       "      <td>NaN</td>\n",
       "      <td>0</td>\n",
       "      <td>1</td>\n",
       "      <td>1</td>\n",
       "      <td>(7.91, 14.454]</td>\n",
       "      <td>(32.0, 48.0]</td>\n",
       "    </tr>\n",
       "  </tbody>\n",
       "</table>\n",
       "</div>"
      ],
      "text/plain": [
       "   PassengerId  Survived  Pclass  \\\n",
       "0            1         0       3   \n",
       "1            2         1       1   \n",
       "2            3         1       3   \n",
       "3            4         1       1   \n",
       "4            5         0       3   \n",
       "\n",
       "                                                Name  Sex  Age  SibSp  Parch  \\\n",
       "0                            Braund, Mr. Owen Harris    1    1      1      0   \n",
       "1  Cumings, Mrs. John Bradley (Florence Briggs Th...    0    2      1      0   \n",
       "2                             Heikkinen, Miss. Laina    0    1      0      0   \n",
       "3       Futrelle, Mrs. Jacques Heath (Lily May Peel)    0    2      1      0   \n",
       "4                           Allen, Mr. William Henry    1    2      0      0   \n",
       "\n",
       "             Ticket  Fare Cabin  Embarked  FamilySize  Title  CategoricalFare  \\\n",
       "0         A/5 21171     0   NaN         0           2      1   (-0.001, 7.91]   \n",
       "1          PC 17599     3   C85         1           2      3  (31.0, 512.329]   \n",
       "2  STON/O2. 3101282     1   NaN         0           1      2   (7.91, 14.454]   \n",
       "3            113803     3  C123         0           2      3  (31.0, 512.329]   \n",
       "4            373450     1   NaN         0           1      1   (7.91, 14.454]   \n",
       "\n",
       "  CategoricalAge  \n",
       "0   (16.0, 32.0]  \n",
       "1   (32.0, 48.0]  \n",
       "2   (16.0, 32.0]  \n",
       "3   (32.0, 48.0]  \n",
       "4   (32.0, 48.0]  "
      ]
     },
     "execution_count": 26,
     "metadata": {},
     "output_type": "execute_result"
    }
   ],
   "source": [
    "df.head()"
   ]
  },
  {
   "cell_type": "markdown",
   "metadata": {},
   "source": [
    "### Dropping the unnecessary columns"
   ]
  },
  {
   "cell_type": "code",
   "execution_count": 27,
   "metadata": {},
   "outputs": [],
   "source": [
    "PassengerId = test_df['PassengerId']\n",
    "columns_to_be_dropped = ['Name', 'PassengerId', 'SibSp', 'Parch', 'Ticket', 'Cabin', ]\n",
    "df = df.drop(columns_to_be_dropped, axis=1)\n",
    "df = df.drop(['CategoricalAge', 'CategoricalFare'], axis=1)\n",
    "test_df = test_df.drop(columns_to_be_dropped, axis=1)"
   ]
  },
  {
   "cell_type": "code",
   "execution_count": 28,
   "metadata": {},
   "outputs": [
    {
     "data": {
      "text/html": [
       "<div>\n",
       "<style scoped>\n",
       "    .dataframe tbody tr th:only-of-type {\n",
       "        vertical-align: middle;\n",
       "    }\n",
       "\n",
       "    .dataframe tbody tr th {\n",
       "        vertical-align: top;\n",
       "    }\n",
       "\n",
       "    .dataframe thead th {\n",
       "        text-align: right;\n",
       "    }\n",
       "</style>\n",
       "<table border=\"1\" class=\"dataframe\">\n",
       "  <thead>\n",
       "    <tr style=\"text-align: right;\">\n",
       "      <th></th>\n",
       "      <th>Survived</th>\n",
       "      <th>Pclass</th>\n",
       "      <th>Sex</th>\n",
       "      <th>Age</th>\n",
       "      <th>Fare</th>\n",
       "      <th>Embarked</th>\n",
       "      <th>FamilySize</th>\n",
       "      <th>Title</th>\n",
       "    </tr>\n",
       "  </thead>\n",
       "  <tbody>\n",
       "    <tr>\n",
       "      <th>0</th>\n",
       "      <td>0</td>\n",
       "      <td>3</td>\n",
       "      <td>1</td>\n",
       "      <td>1</td>\n",
       "      <td>0</td>\n",
       "      <td>0</td>\n",
       "      <td>2</td>\n",
       "      <td>1</td>\n",
       "    </tr>\n",
       "    <tr>\n",
       "      <th>1</th>\n",
       "      <td>1</td>\n",
       "      <td>1</td>\n",
       "      <td>0</td>\n",
       "      <td>2</td>\n",
       "      <td>3</td>\n",
       "      <td>1</td>\n",
       "      <td>2</td>\n",
       "      <td>3</td>\n",
       "    </tr>\n",
       "    <tr>\n",
       "      <th>2</th>\n",
       "      <td>1</td>\n",
       "      <td>3</td>\n",
       "      <td>0</td>\n",
       "      <td>1</td>\n",
       "      <td>1</td>\n",
       "      <td>0</td>\n",
       "      <td>1</td>\n",
       "      <td>2</td>\n",
       "    </tr>\n",
       "    <tr>\n",
       "      <th>3</th>\n",
       "      <td>1</td>\n",
       "      <td>1</td>\n",
       "      <td>0</td>\n",
       "      <td>2</td>\n",
       "      <td>3</td>\n",
       "      <td>0</td>\n",
       "      <td>2</td>\n",
       "      <td>3</td>\n",
       "    </tr>\n",
       "    <tr>\n",
       "      <th>4</th>\n",
       "      <td>0</td>\n",
       "      <td>3</td>\n",
       "      <td>1</td>\n",
       "      <td>2</td>\n",
       "      <td>1</td>\n",
       "      <td>0</td>\n",
       "      <td>1</td>\n",
       "      <td>1</td>\n",
       "    </tr>\n",
       "  </tbody>\n",
       "</table>\n",
       "</div>"
      ],
      "text/plain": [
       "   Survived  Pclass  Sex  Age  Fare  Embarked  FamilySize  Title\n",
       "0         0       3    1    1     0         0           2      1\n",
       "1         1       1    0    2     3         1           2      3\n",
       "2         1       3    0    1     1         0           1      2\n",
       "3         1       1    0    2     3         0           2      3\n",
       "4         0       3    1    2     1         0           1      1"
      ]
     },
     "execution_count": 28,
     "metadata": {},
     "output_type": "execute_result"
    }
   ],
   "source": [
    "df.head()"
   ]
  },
  {
   "cell_type": "code",
   "execution_count": 29,
   "metadata": {},
   "outputs": [
    {
     "data": {
      "text/html": [
       "<div>\n",
       "<style scoped>\n",
       "    .dataframe tbody tr th:only-of-type {\n",
       "        vertical-align: middle;\n",
       "    }\n",
       "\n",
       "    .dataframe tbody tr th {\n",
       "        vertical-align: top;\n",
       "    }\n",
       "\n",
       "    .dataframe thead th {\n",
       "        text-align: right;\n",
       "    }\n",
       "</style>\n",
       "<table border=\"1\" class=\"dataframe\">\n",
       "  <thead>\n",
       "    <tr style=\"text-align: right;\">\n",
       "      <th></th>\n",
       "      <th>Pclass</th>\n",
       "      <th>Sex</th>\n",
       "      <th>Age</th>\n",
       "      <th>Fare</th>\n",
       "      <th>Embarked</th>\n",
       "      <th>FamilySize</th>\n",
       "      <th>Title</th>\n",
       "    </tr>\n",
       "  </thead>\n",
       "  <tbody>\n",
       "    <tr>\n",
       "      <th>0</th>\n",
       "      <td>3</td>\n",
       "      <td>1</td>\n",
       "      <td>2</td>\n",
       "      <td>0</td>\n",
       "      <td>2</td>\n",
       "      <td>1</td>\n",
       "      <td>1</td>\n",
       "    </tr>\n",
       "    <tr>\n",
       "      <th>1</th>\n",
       "      <td>3</td>\n",
       "      <td>0</td>\n",
       "      <td>2</td>\n",
       "      <td>0</td>\n",
       "      <td>0</td>\n",
       "      <td>2</td>\n",
       "      <td>3</td>\n",
       "    </tr>\n",
       "    <tr>\n",
       "      <th>2</th>\n",
       "      <td>2</td>\n",
       "      <td>1</td>\n",
       "      <td>3</td>\n",
       "      <td>1</td>\n",
       "      <td>2</td>\n",
       "      <td>1</td>\n",
       "      <td>1</td>\n",
       "    </tr>\n",
       "    <tr>\n",
       "      <th>3</th>\n",
       "      <td>3</td>\n",
       "      <td>1</td>\n",
       "      <td>1</td>\n",
       "      <td>1</td>\n",
       "      <td>0</td>\n",
       "      <td>1</td>\n",
       "      <td>1</td>\n",
       "    </tr>\n",
       "    <tr>\n",
       "      <th>4</th>\n",
       "      <td>3</td>\n",
       "      <td>0</td>\n",
       "      <td>1</td>\n",
       "      <td>1</td>\n",
       "      <td>0</td>\n",
       "      <td>3</td>\n",
       "      <td>3</td>\n",
       "    </tr>\n",
       "  </tbody>\n",
       "</table>\n",
       "</div>"
      ],
      "text/plain": [
       "   Pclass  Sex  Age  Fare  Embarked  FamilySize  Title\n",
       "0       3    1    2     0         2           1      1\n",
       "1       3    0    2     0         0           2      3\n",
       "2       2    1    3     1         2           1      1\n",
       "3       3    1    1     1         0           1      1\n",
       "4       3    0    1     1         0           3      3"
      ]
     },
     "execution_count": 29,
     "metadata": {},
     "output_type": "execute_result"
    }
   ],
   "source": [
    "test_df.head()"
   ]
  },
  {
   "cell_type": "markdown",
   "metadata": {},
   "source": [
    "## One hot Encoding <a class=\"anchor\" id=\"seventh-bullet\"></a>"
   ]
  },
  {
   "cell_type": "code",
   "execution_count": 30,
   "metadata": {},
   "outputs": [],
   "source": [
    "\n",
    "train_a = pd.get_dummies(df['Pclass'], prefix = \"Pclass\")\n",
    "train_b = pd.get_dummies(df['Fare'], prefix = \"Fare\")\n",
    "train_c = pd.get_dummies(df['Title'], prefix = \"Title\")\n",
    "train_frames = [df, train_a, train_b, train_c]\n",
    "df = pd.concat(train_frames, axis = 1)\n",
    "\n",
    "test_a = pd.get_dummies(test_df['Pclass'], prefix = \"Pclass\")\n",
    "test_b = pd.get_dummies(test_df['Fare'], prefix = \"Fare\")\n",
    "test_c = pd.get_dummies(test_df['Title'], prefix = \"Title\")\n",
    "test_frames = [test_df, test_a, test_b, test_c]\n",
    "test_df = pd.concat(test_frames, axis = 1)\n",
    "\n",
    "to_be_dropped = ['Pclass', 'Fare', 'Title']\n",
    "df = df.drop(to_be_dropped, axis=1)\n",
    "test_df = test_df.drop(to_be_dropped, axis=1)"
   ]
  },
  {
   "cell_type": "code",
   "execution_count": 31,
   "metadata": {},
   "outputs": [
    {
     "data": {
      "text/html": [
       "<div>\n",
       "<style scoped>\n",
       "    .dataframe tbody tr th:only-of-type {\n",
       "        vertical-align: middle;\n",
       "    }\n",
       "\n",
       "    .dataframe tbody tr th {\n",
       "        vertical-align: top;\n",
       "    }\n",
       "\n",
       "    .dataframe thead th {\n",
       "        text-align: right;\n",
       "    }\n",
       "</style>\n",
       "<table border=\"1\" class=\"dataframe\">\n",
       "  <thead>\n",
       "    <tr style=\"text-align: right;\">\n",
       "      <th></th>\n",
       "      <th>Survived</th>\n",
       "      <th>Sex</th>\n",
       "      <th>Age</th>\n",
       "      <th>Embarked</th>\n",
       "      <th>FamilySize</th>\n",
       "      <th>Pclass_1</th>\n",
       "      <th>Pclass_2</th>\n",
       "      <th>Pclass_3</th>\n",
       "      <th>Fare_0</th>\n",
       "      <th>Fare_1</th>\n",
       "      <th>Fare_2</th>\n",
       "      <th>Fare_3</th>\n",
       "      <th>Title_1</th>\n",
       "      <th>Title_2</th>\n",
       "      <th>Title_3</th>\n",
       "      <th>Title_4</th>\n",
       "      <th>Title_5</th>\n",
       "    </tr>\n",
       "  </thead>\n",
       "  <tbody>\n",
       "    <tr>\n",
       "      <th>0</th>\n",
       "      <td>0</td>\n",
       "      <td>1</td>\n",
       "      <td>1</td>\n",
       "      <td>0</td>\n",
       "      <td>2</td>\n",
       "      <td>0</td>\n",
       "      <td>0</td>\n",
       "      <td>1</td>\n",
       "      <td>1</td>\n",
       "      <td>0</td>\n",
       "      <td>0</td>\n",
       "      <td>0</td>\n",
       "      <td>1</td>\n",
       "      <td>0</td>\n",
       "      <td>0</td>\n",
       "      <td>0</td>\n",
       "      <td>0</td>\n",
       "    </tr>\n",
       "    <tr>\n",
       "      <th>1</th>\n",
       "      <td>1</td>\n",
       "      <td>0</td>\n",
       "      <td>2</td>\n",
       "      <td>1</td>\n",
       "      <td>2</td>\n",
       "      <td>1</td>\n",
       "      <td>0</td>\n",
       "      <td>0</td>\n",
       "      <td>0</td>\n",
       "      <td>0</td>\n",
       "      <td>0</td>\n",
       "      <td>1</td>\n",
       "      <td>0</td>\n",
       "      <td>0</td>\n",
       "      <td>1</td>\n",
       "      <td>0</td>\n",
       "      <td>0</td>\n",
       "    </tr>\n",
       "    <tr>\n",
       "      <th>2</th>\n",
       "      <td>1</td>\n",
       "      <td>0</td>\n",
       "      <td>1</td>\n",
       "      <td>0</td>\n",
       "      <td>1</td>\n",
       "      <td>0</td>\n",
       "      <td>0</td>\n",
       "      <td>1</td>\n",
       "      <td>0</td>\n",
       "      <td>1</td>\n",
       "      <td>0</td>\n",
       "      <td>0</td>\n",
       "      <td>0</td>\n",
       "      <td>1</td>\n",
       "      <td>0</td>\n",
       "      <td>0</td>\n",
       "      <td>0</td>\n",
       "    </tr>\n",
       "    <tr>\n",
       "      <th>3</th>\n",
       "      <td>1</td>\n",
       "      <td>0</td>\n",
       "      <td>2</td>\n",
       "      <td>0</td>\n",
       "      <td>2</td>\n",
       "      <td>1</td>\n",
       "      <td>0</td>\n",
       "      <td>0</td>\n",
       "      <td>0</td>\n",
       "      <td>0</td>\n",
       "      <td>0</td>\n",
       "      <td>1</td>\n",
       "      <td>0</td>\n",
       "      <td>0</td>\n",
       "      <td>1</td>\n",
       "      <td>0</td>\n",
       "      <td>0</td>\n",
       "    </tr>\n",
       "    <tr>\n",
       "      <th>4</th>\n",
       "      <td>0</td>\n",
       "      <td>1</td>\n",
       "      <td>2</td>\n",
       "      <td>0</td>\n",
       "      <td>1</td>\n",
       "      <td>0</td>\n",
       "      <td>0</td>\n",
       "      <td>1</td>\n",
       "      <td>0</td>\n",
       "      <td>1</td>\n",
       "      <td>0</td>\n",
       "      <td>0</td>\n",
       "      <td>1</td>\n",
       "      <td>0</td>\n",
       "      <td>0</td>\n",
       "      <td>0</td>\n",
       "      <td>0</td>\n",
       "    </tr>\n",
       "  </tbody>\n",
       "</table>\n",
       "</div>"
      ],
      "text/plain": [
       "   Survived  Sex  Age  Embarked  FamilySize  Pclass_1  Pclass_2  Pclass_3  \\\n",
       "0         0    1    1         0           2         0         0         1   \n",
       "1         1    0    2         1           2         1         0         0   \n",
       "2         1    0    1         0           1         0         0         1   \n",
       "3         1    0    2         0           2         1         0         0   \n",
       "4         0    1    2         0           1         0         0         1   \n",
       "\n",
       "   Fare_0  Fare_1  Fare_2  Fare_3  Title_1  Title_2  Title_3  Title_4  Title_5  \n",
       "0       1       0       0       0        1        0        0        0        0  \n",
       "1       0       0       0       1        0        0        1        0        0  \n",
       "2       0       1       0       0        0        1        0        0        0  \n",
       "3       0       0       0       1        0        0        1        0        0  \n",
       "4       0       1       0       0        1        0        0        0        0  "
      ]
     },
     "execution_count": 31,
     "metadata": {},
     "output_type": "execute_result"
    }
   ],
   "source": [
    "df.head()"
   ]
  },
  {
   "cell_type": "markdown",
   "metadata": {},
   "source": [
    "## Splitting into train and test features <a class=\"anchor\" id=\"eighth-bullet\"></a>"
   ]
  },
  {
   "cell_type": "code",
   "execution_count": 32,
   "metadata": {},
   "outputs": [],
   "source": [
    "features = df.drop(\"Survived\", axis=1)\n",
    "targets = df.Survived.values"
   ]
  },
  {
   "cell_type": "code",
   "execution_count": 33,
   "metadata": {},
   "outputs": [],
   "source": [
    "from sklearn.model_selection import train_test_split\n",
    "train_features,test_features,train_targets,test_targets = train_test_split(features,targets,test_size = 0.20,random_state = 42)\n"
   ]
  },
  {
   "cell_type": "markdown",
   "metadata": {},
   "source": [
    "## Neural network architecture  <a class=\"anchor\" id=\"ninth-bullet\"></a>\n",
    "Finally we have prepared our data. Now it's time to train it with neural nets !!!"
   ]
  },
  {
   "cell_type": "code",
   "execution_count": 34,
   "metadata": {},
   "outputs": [
    {
     "name": "stdout",
     "output_type": "stream",
     "text": [
      "_________________________________________________________________\n",
      "Layer (type)                 Output Shape              Param #   \n",
      "=================================================================\n",
      "dense_1 (Dense)              (None, 64)                1088      \n",
      "_________________________________________________________________\n",
      "dropout_1 (Dropout)          (None, 64)                0         \n",
      "_________________________________________________________________\n",
      "dense_2 (Dense)              (None, 32)                2080      \n",
      "_________________________________________________________________\n",
      "dropout_2 (Dropout)          (None, 32)                0         \n",
      "_________________________________________________________________\n",
      "dense_3 (Dense)              (None, 1)                 33        \n",
      "=================================================================\n",
      "Total params: 3,201\n",
      "Trainable params: 3,201\n",
      "Non-trainable params: 0\n",
      "_________________________________________________________________\n"
     ]
    },
    {
     "name": "stderr",
     "output_type": "stream",
     "text": [
      "Using TensorFlow backend.\n"
     ]
    }
   ],
   "source": [
    "# Imports\n",
    "import numpy as np\n",
    "from keras.models import Sequential\n",
    "from keras.layers.core import Dense, Dropout, Activation\n",
    "from keras.optimizers import SGD\n",
    "from keras.utils import np_utils\n",
    "\n",
    "# Building the model\n",
    "model = Sequential()\n",
    "model.add(Dense(64, input_shape=(train_features.shape[1],), activation='relu'))\n",
    "model.add(Dropout(0.1))\n",
    "model.add(Dense(32, activation='relu'))\n",
    "model.add(Dropout(0.1))\n",
    "model.add(Dense(1, activation='sigmoid'))\n",
    "\n",
    "# Compiling the model\n",
    "model.compile(loss = 'mean_squared_error', optimizer='adam', metrics=['mse','mae'])\n",
    "model.summary()"
   ]
  },
  {
   "cell_type": "code",
   "execution_count": 35,
   "metadata": {},
   "outputs": [
    {
     "name": "stdout",
     "output_type": "stream",
     "text": [
      "\n",
      "Epoch 00001: val_loss improved from inf to 0.19756, saving model to test.model.best.hdf5\n",
      "\n",
      "Epoch 00002: val_loss improved from 0.19756 to 0.16788, saving model to test.model.best.hdf5\n",
      "\n",
      "Epoch 00003: val_loss improved from 0.16788 to 0.14219, saving model to test.model.best.hdf5\n",
      "\n",
      "Epoch 00004: val_loss improved from 0.14219 to 0.12839, saving model to test.model.best.hdf5\n",
      "\n",
      "Epoch 00005: val_loss improved from 0.12839 to 0.12040, saving model to test.model.best.hdf5\n",
      "\n",
      "Epoch 00006: val_loss improved from 0.12040 to 0.11789, saving model to test.model.best.hdf5\n",
      "\n",
      "Epoch 00007: val_loss improved from 0.11789 to 0.11559, saving model to test.model.best.hdf5\n",
      "\n",
      "Epoch 00008: val_loss improved from 0.11559 to 0.11295, saving model to test.model.best.hdf5\n",
      "\n",
      "Epoch 00009: val_loss improved from 0.11295 to 0.11167, saving model to test.model.best.hdf5\n",
      "\n",
      "Epoch 00010: val_loss did not improve from 0.11167\n",
      "\n",
      "Epoch 00011: val_loss did not improve from 0.11167\n",
      "\n",
      "Epoch 00012: val_loss did not improve from 0.11167\n",
      "\n",
      "Epoch 00013: val_loss did not improve from 0.11167\n",
      "\n",
      "Epoch 00014: val_loss did not improve from 0.11167\n",
      "\n",
      "Epoch 00015: val_loss did not improve from 0.11167\n",
      "\n",
      "Epoch 00016: val_loss did not improve from 0.11167\n",
      "\n",
      "Epoch 00017: val_loss did not improve from 0.11167\n",
      "\n",
      "Epoch 00018: val_loss did not improve from 0.11167\n",
      "\n",
      "Epoch 00019: val_loss did not improve from 0.11167\n",
      "\n",
      "Epoch 00020: val_loss did not improve from 0.11167\n",
      "\n",
      "Epoch 00021: val_loss did not improve from 0.11167\n",
      "\n",
      "Epoch 00022: val_loss did not improve from 0.11167\n",
      "\n",
      "Epoch 00023: val_loss did not improve from 0.11167\n",
      "\n",
      "Epoch 00024: val_loss did not improve from 0.11167\n",
      "\n",
      "Epoch 00025: val_loss did not improve from 0.11167\n",
      "\n",
      "Epoch 00026: val_loss did not improve from 0.11167\n",
      "\n",
      "Epoch 00027: val_loss did not improve from 0.11167\n",
      "\n",
      "Epoch 00028: val_loss did not improve from 0.11167\n",
      "\n",
      "Epoch 00029: val_loss did not improve from 0.11167\n",
      "\n",
      "Epoch 00030: val_loss did not improve from 0.11167\n",
      "\n",
      "Epoch 00031: val_loss did not improve from 0.11167\n",
      "\n",
      "Epoch 00032: val_loss did not improve from 0.11167\n",
      "\n",
      "Epoch 00033: val_loss did not improve from 0.11167\n",
      "\n",
      "Epoch 00034: val_loss did not improve from 0.11167\n",
      "\n",
      "Epoch 00035: val_loss did not improve from 0.11167\n",
      "\n",
      "Epoch 00036: val_loss did not improve from 0.11167\n",
      "\n",
      "Epoch 00037: val_loss did not improve from 0.11167\n",
      "\n",
      "Epoch 00038: val_loss did not improve from 0.11167\n",
      "\n",
      "Epoch 00039: val_loss did not improve from 0.11167\n",
      "\n",
      "Epoch 00040: val_loss did not improve from 0.11167\n",
      "\n",
      "Epoch 00041: val_loss did not improve from 0.11167\n",
      "\n",
      "Epoch 00042: val_loss did not improve from 0.11167\n",
      "\n",
      "Epoch 00043: val_loss did not improve from 0.11167\n",
      "\n",
      "Epoch 00044: val_loss did not improve from 0.11167\n",
      "\n",
      "Epoch 00045: val_loss did not improve from 0.11167\n",
      "\n",
      "Epoch 00046: val_loss did not improve from 0.11167\n",
      "\n",
      "Epoch 00047: val_loss did not improve from 0.11167\n",
      "\n",
      "Epoch 00048: val_loss did not improve from 0.11167\n",
      "\n",
      "Epoch 00049: val_loss did not improve from 0.11167\n",
      "\n",
      "Epoch 00050: val_loss did not improve from 0.11167\n",
      "\n",
      "Epoch 00051: val_loss did not improve from 0.11167\n",
      "\n",
      "Epoch 00052: val_loss did not improve from 0.11167\n",
      "\n",
      "Epoch 00053: val_loss did not improve from 0.11167\n",
      "\n",
      "Epoch 00054: val_loss did not improve from 0.11167\n",
      "\n",
      "Epoch 00055: val_loss did not improve from 0.11167\n",
      "\n",
      "Epoch 00056: val_loss did not improve from 0.11167\n",
      "\n",
      "Epoch 00057: val_loss did not improve from 0.11167\n",
      "\n",
      "Epoch 00058: val_loss did not improve from 0.11167\n",
      "\n",
      "Epoch 00059: val_loss did not improve from 0.11167\n",
      "\n",
      "Epoch 00060: val_loss did not improve from 0.11167\n",
      "\n",
      "Epoch 00061: val_loss did not improve from 0.11167\n",
      "\n",
      "Epoch 00062: val_loss did not improve from 0.11167\n",
      "\n",
      "Epoch 00063: val_loss did not improve from 0.11167\n",
      "\n",
      "Epoch 00064: val_loss did not improve from 0.11167\n",
      "\n",
      "Epoch 00065: val_loss did not improve from 0.11167\n",
      "\n",
      "Epoch 00066: val_loss did not improve from 0.11167\n",
      "\n",
      "Epoch 00067: val_loss did not improve from 0.11167\n",
      "\n",
      "Epoch 00068: val_loss did not improve from 0.11167\n",
      "\n",
      "Epoch 00069: val_loss did not improve from 0.11167\n",
      "\n",
      "Epoch 00070: val_loss did not improve from 0.11167\n",
      "\n",
      "Epoch 00071: val_loss did not improve from 0.11167\n",
      "\n",
      "Epoch 00072: val_loss did not improve from 0.11167\n",
      "\n",
      "Epoch 00073: val_loss did not improve from 0.11167\n",
      "\n",
      "Epoch 00074: val_loss did not improve from 0.11167\n",
      "\n",
      "Epoch 00075: val_loss did not improve from 0.11167\n",
      "\n",
      "Epoch 00076: val_loss did not improve from 0.11167\n",
      "\n",
      "Epoch 00077: val_loss did not improve from 0.11167\n",
      "\n",
      "Epoch 00078: val_loss did not improve from 0.11167\n",
      "\n",
      "Epoch 00079: val_loss did not improve from 0.11167\n",
      "\n",
      "Epoch 00080: val_loss did not improve from 0.11167\n",
      "\n",
      "Epoch 00081: val_loss did not improve from 0.11167\n",
      "\n",
      "Epoch 00082: val_loss did not improve from 0.11167\n",
      "\n",
      "Epoch 00083: val_loss did not improve from 0.11167\n",
      "\n",
      "Epoch 00084: val_loss did not improve from 0.11167\n",
      "\n",
      "Epoch 00085: val_loss did not improve from 0.11167\n",
      "\n",
      "Epoch 00086: val_loss did not improve from 0.11167\n",
      "\n",
      "Epoch 00087: val_loss did not improve from 0.11167\n",
      "\n",
      "Epoch 00088: val_loss did not improve from 0.11167\n",
      "\n",
      "Epoch 00089: val_loss did not improve from 0.11167\n",
      "\n",
      "Epoch 00090: val_loss did not improve from 0.11167\n",
      "\n",
      "Epoch 00091: val_loss did not improve from 0.11167\n",
      "\n",
      "Epoch 00092: val_loss did not improve from 0.11167\n",
      "\n",
      "Epoch 00093: val_loss did not improve from 0.11167\n",
      "\n",
      "Epoch 00094: val_loss did not improve from 0.11167\n",
      "\n",
      "Epoch 00095: val_loss did not improve from 0.11167\n",
      "\n",
      "Epoch 00096: val_loss did not improve from 0.11167\n",
      "\n",
      "Epoch 00097: val_loss did not improve from 0.11167\n",
      "\n",
      "Epoch 00098: val_loss did not improve from 0.11167\n",
      "\n",
      "Epoch 00099: val_loss did not improve from 0.11167\n",
      "\n",
      "Epoch 00100: val_loss did not improve from 0.11167\n",
      "\n",
      "Epoch 00101: val_loss did not improve from 0.11167\n",
      "\n",
      "Epoch 00102: val_loss did not improve from 0.11167\n",
      "\n",
      "Epoch 00103: val_loss did not improve from 0.11167\n",
      "\n",
      "Epoch 00104: val_loss did not improve from 0.11167\n",
      "\n",
      "Epoch 00105: val_loss did not improve from 0.11167\n",
      "\n",
      "Epoch 00106: val_loss did not improve from 0.11167\n",
      "\n",
      "Epoch 00107: val_loss did not improve from 0.11167\n",
      "\n",
      "Epoch 00108: val_loss did not improve from 0.11167\n",
      "\n",
      "Epoch 00109: val_loss did not improve from 0.11167\n",
      "\n",
      "Epoch 00110: val_loss did not improve from 0.11167\n",
      "\n",
      "Epoch 00111: val_loss did not improve from 0.11167\n",
      "\n",
      "Epoch 00112: val_loss did not improve from 0.11167\n",
      "\n",
      "Epoch 00113: val_loss did not improve from 0.11167\n",
      "\n",
      "Epoch 00114: val_loss did not improve from 0.11167\n",
      "\n",
      "Epoch 00115: val_loss did not improve from 0.11167\n",
      "\n",
      "Epoch 00116: val_loss did not improve from 0.11167\n",
      "\n",
      "Epoch 00117: val_loss did not improve from 0.11167\n",
      "\n",
      "Epoch 00118: val_loss did not improve from 0.11167\n",
      "\n",
      "Epoch 00119: val_loss did not improve from 0.11167\n",
      "\n",
      "Epoch 00120: val_loss did not improve from 0.11167\n",
      "\n",
      "Epoch 00121: val_loss did not improve from 0.11167\n",
      "\n",
      "Epoch 00122: val_loss did not improve from 0.11167\n",
      "\n",
      "Epoch 00123: val_loss did not improve from 0.11167\n",
      "\n",
      "Epoch 00124: val_loss did not improve from 0.11167\n",
      "\n",
      "Epoch 00125: val_loss did not improve from 0.11167\n",
      "\n",
      "Epoch 00126: val_loss did not improve from 0.11167\n",
      "\n",
      "Epoch 00127: val_loss did not improve from 0.11167\n",
      "\n",
      "Epoch 00128: val_loss did not improve from 0.11167\n",
      "\n",
      "Epoch 00129: val_loss did not improve from 0.11167\n",
      "\n",
      "Epoch 00130: val_loss did not improve from 0.11167\n",
      "\n",
      "Epoch 00131: val_loss did not improve from 0.11167\n",
      "\n",
      "Epoch 00132: val_loss did not improve from 0.11167\n",
      "\n",
      "Epoch 00133: val_loss did not improve from 0.11167\n",
      "\n",
      "Epoch 00134: val_loss did not improve from 0.11167\n",
      "\n",
      "Epoch 00135: val_loss did not improve from 0.11167\n",
      "\n",
      "Epoch 00136: val_loss did not improve from 0.11167\n",
      "\n",
      "Epoch 00137: val_loss did not improve from 0.11167\n",
      "\n",
      "Epoch 00138: val_loss did not improve from 0.11167\n",
      "\n",
      "Epoch 00139: val_loss did not improve from 0.11167\n",
      "\n",
      "Epoch 00140: val_loss did not improve from 0.11167\n",
      "\n",
      "Epoch 00141: val_loss did not improve from 0.11167\n",
      "\n",
      "Epoch 00142: val_loss did not improve from 0.11167\n",
      "\n",
      "Epoch 00143: val_loss did not improve from 0.11167\n",
      "\n",
      "Epoch 00144: val_loss did not improve from 0.11167\n",
      "\n",
      "Epoch 00145: val_loss did not improve from 0.11167\n",
      "\n",
      "Epoch 00146: val_loss did not improve from 0.11167\n",
      "\n",
      "Epoch 00147: val_loss did not improve from 0.11167\n",
      "\n",
      "Epoch 00148: val_loss did not improve from 0.11167\n",
      "\n",
      "Epoch 00149: val_loss did not improve from 0.11167\n",
      "\n",
      "Epoch 00150: val_loss did not improve from 0.11167\n",
      "\n",
      "Epoch 00151: val_loss did not improve from 0.11167\n",
      "\n",
      "Epoch 00152: val_loss did not improve from 0.11167\n",
      "\n",
      "Epoch 00153: val_loss did not improve from 0.11167\n",
      "\n",
      "Epoch 00154: val_loss did not improve from 0.11167\n",
      "\n",
      "Epoch 00155: val_loss did not improve from 0.11167\n",
      "\n",
      "Epoch 00156: val_loss did not improve from 0.11167\n",
      "\n",
      "Epoch 00157: val_loss did not improve from 0.11167\n"
     ]
    },
    {
     "name": "stdout",
     "output_type": "stream",
     "text": [
      "\n",
      "Epoch 00158: val_loss did not improve from 0.11167\n",
      "\n",
      "Epoch 00159: val_loss did not improve from 0.11167\n",
      "\n",
      "Epoch 00160: val_loss did not improve from 0.11167\n",
      "\n",
      "Epoch 00161: val_loss did not improve from 0.11167\n",
      "\n",
      "Epoch 00162: val_loss did not improve from 0.11167\n",
      "\n",
      "Epoch 00163: val_loss did not improve from 0.11167\n",
      "\n",
      "Epoch 00164: val_loss did not improve from 0.11167\n",
      "\n",
      "Epoch 00165: val_loss did not improve from 0.11167\n",
      "\n",
      "Epoch 00166: val_loss did not improve from 0.11167\n",
      "\n",
      "Epoch 00167: val_loss did not improve from 0.11167\n",
      "\n",
      "Epoch 00168: val_loss did not improve from 0.11167\n",
      "\n",
      "Epoch 00169: val_loss did not improve from 0.11167\n",
      "\n",
      "Epoch 00170: val_loss did not improve from 0.11167\n",
      "\n",
      "Epoch 00171: val_loss did not improve from 0.11167\n",
      "\n",
      "Epoch 00172: val_loss did not improve from 0.11167\n",
      "\n",
      "Epoch 00173: val_loss did not improve from 0.11167\n",
      "\n",
      "Epoch 00174: val_loss did not improve from 0.11167\n",
      "\n",
      "Epoch 00175: val_loss did not improve from 0.11167\n",
      "\n",
      "Epoch 00176: val_loss did not improve from 0.11167\n",
      "\n",
      "Epoch 00177: val_loss did not improve from 0.11167\n",
      "\n",
      "Epoch 00178: val_loss did not improve from 0.11167\n",
      "\n",
      "Epoch 00179: val_loss did not improve from 0.11167\n",
      "\n",
      "Epoch 00180: val_loss did not improve from 0.11167\n",
      "\n",
      "Epoch 00181: val_loss did not improve from 0.11167\n",
      "\n",
      "Epoch 00182: val_loss did not improve from 0.11167\n",
      "\n",
      "Epoch 00183: val_loss did not improve from 0.11167\n",
      "\n",
      "Epoch 00184: val_loss did not improve from 0.11167\n",
      "\n",
      "Epoch 00185: val_loss did not improve from 0.11167\n",
      "\n",
      "Epoch 00186: val_loss did not improve from 0.11167\n",
      "\n",
      "Epoch 00187: val_loss did not improve from 0.11167\n",
      "\n",
      "Epoch 00188: val_loss did not improve from 0.11167\n",
      "\n",
      "Epoch 00189: val_loss did not improve from 0.11167\n",
      "\n",
      "Epoch 00190: val_loss did not improve from 0.11167\n",
      "\n",
      "Epoch 00191: val_loss did not improve from 0.11167\n",
      "\n",
      "Epoch 00192: val_loss did not improve from 0.11167\n",
      "\n",
      "Epoch 00193: val_loss did not improve from 0.11167\n",
      "\n",
      "Epoch 00194: val_loss did not improve from 0.11167\n",
      "\n",
      "Epoch 00195: val_loss did not improve from 0.11167\n",
      "\n",
      "Epoch 00196: val_loss did not improve from 0.11167\n",
      "\n",
      "Epoch 00197: val_loss did not improve from 0.11167\n",
      "\n",
      "Epoch 00198: val_loss did not improve from 0.11167\n",
      "\n",
      "Epoch 00199: val_loss did not improve from 0.11167\n",
      "\n",
      "Epoch 00200: val_loss did not improve from 0.11167\n",
      "\n",
      "Epoch 00201: val_loss did not improve from 0.11167\n",
      "\n",
      "Epoch 00202: val_loss did not improve from 0.11167\n",
      "\n",
      "Epoch 00203: val_loss did not improve from 0.11167\n",
      "\n",
      "Epoch 00204: val_loss did not improve from 0.11167\n",
      "\n",
      "Epoch 00205: val_loss did not improve from 0.11167\n",
      "\n",
      "Epoch 00206: val_loss did not improve from 0.11167\n",
      "\n",
      "Epoch 00207: val_loss did not improve from 0.11167\n",
      "\n",
      "Epoch 00208: val_loss did not improve from 0.11167\n",
      "\n",
      "Epoch 00209: val_loss did not improve from 0.11167\n",
      "\n",
      "Epoch 00210: val_loss did not improve from 0.11167\n",
      "\n",
      "Epoch 00211: val_loss did not improve from 0.11167\n",
      "\n",
      "Epoch 00212: val_loss did not improve from 0.11167\n",
      "\n",
      "Epoch 00213: val_loss did not improve from 0.11167\n",
      "\n",
      "Epoch 00214: val_loss did not improve from 0.11167\n",
      "\n",
      "Epoch 00215: val_loss did not improve from 0.11167\n",
      "\n",
      "Epoch 00216: val_loss did not improve from 0.11167\n",
      "\n",
      "Epoch 00217: val_loss did not improve from 0.11167\n",
      "\n",
      "Epoch 00218: val_loss did not improve from 0.11167\n",
      "\n",
      "Epoch 00219: val_loss did not improve from 0.11167\n",
      "\n",
      "Epoch 00220: val_loss did not improve from 0.11167\n",
      "\n",
      "Epoch 00221: val_loss did not improve from 0.11167\n",
      "\n",
      "Epoch 00222: val_loss did not improve from 0.11167\n",
      "\n",
      "Epoch 00223: val_loss did not improve from 0.11167\n",
      "\n",
      "Epoch 00224: val_loss did not improve from 0.11167\n",
      "\n",
      "Epoch 00225: val_loss did not improve from 0.11167\n",
      "\n",
      "Epoch 00226: val_loss did not improve from 0.11167\n",
      "\n",
      "Epoch 00227: val_loss did not improve from 0.11167\n",
      "\n",
      "Epoch 00228: val_loss did not improve from 0.11167\n",
      "\n",
      "Epoch 00229: val_loss did not improve from 0.11167\n",
      "\n",
      "Epoch 00230: val_loss did not improve from 0.11167\n",
      "\n",
      "Epoch 00231: val_loss did not improve from 0.11167\n",
      "\n",
      "Epoch 00232: val_loss did not improve from 0.11167\n",
      "\n",
      "Epoch 00233: val_loss did not improve from 0.11167\n",
      "\n",
      "Epoch 00234: val_loss did not improve from 0.11167\n",
      "\n",
      "Epoch 00235: val_loss did not improve from 0.11167\n",
      "\n",
      "Epoch 00236: val_loss did not improve from 0.11167\n",
      "\n",
      "Epoch 00237: val_loss did not improve from 0.11167\n",
      "\n",
      "Epoch 00238: val_loss did not improve from 0.11167\n",
      "\n",
      "Epoch 00239: val_loss did not improve from 0.11167\n",
      "\n",
      "Epoch 00240: val_loss did not improve from 0.11167\n",
      "\n",
      "Epoch 00241: val_loss did not improve from 0.11167\n",
      "\n",
      "Epoch 00242: val_loss did not improve from 0.11167\n",
      "\n",
      "Epoch 00243: val_loss did not improve from 0.11167\n",
      "\n",
      "Epoch 00244: val_loss did not improve from 0.11167\n",
      "\n",
      "Epoch 00245: val_loss did not improve from 0.11167\n",
      "\n",
      "Epoch 00246: val_loss did not improve from 0.11167\n",
      "\n",
      "Epoch 00247: val_loss did not improve from 0.11167\n",
      "\n",
      "Epoch 00248: val_loss did not improve from 0.11167\n",
      "\n",
      "Epoch 00249: val_loss did not improve from 0.11167\n",
      "\n",
      "Epoch 00250: val_loss did not improve from 0.11167\n"
     ]
    }
   ],
   "source": [
    "from keras.callbacks import ModelCheckpoint   \n",
    "\n",
    "# train the model\n",
    "checkpointer = ModelCheckpoint(filepath='test.model.best.hdf5', \n",
    "                               verbose=1, save_best_only=True)\n",
    "\n",
    "history = model.fit(train_features, train_targets, validation_split=0.2, epochs=250, batch_size=32, verbose=0, callbacks=[checkpointer], shuffle=True)\n",
    "\n",
    "#Load the Model with the Best Classification Accuracy on the Validation Set\n",
    "model.load_weights('test.model.best.hdf5')"
   ]
  },
  {
   "cell_type": "markdown",
   "metadata": {},
   "source": [
    "## Evaluating the model <a class=\"anchor\" id=\"tenth-bullet\"></a>"
   ]
  },
  {
   "cell_type": "code",
   "execution_count": 36,
   "metadata": {},
   "outputs": [
    {
     "data": {
      "image/png": "[encoded data removed]",
      "text/plain": [
       "<Figure size 432x288 with 1 Axes>"
      ]
     },
     "metadata": {
      "image/png": {
       "height": 277,
       "width": 393
      },
      "needs_background": "light"
     },
     "output_type": "display_data"
    }
   ],
   "source": [
    "#print(vars(history))\n",
    "plt.plot(history.history['loss'])\n",
    "plt.title('Model loss')\n",
    "plt.ylabel('Loss')\n",
    "plt.xlabel('Epoch')\n",
    "plt.legend(['Train', 'Test'], loc='upper left')\n",
    "plt.show()"
   ]
  },
  {
   "cell_type": "markdown",
   "metadata": {},
   "source": [
    "## Predicting the model <a class=\"anchor\" id=\"eleventh-bullet\"></a>"
   ]
  },
  {
   "cell_type": "code",
   "execution_count": 37,
   "metadata": {},
   "outputs": [
    {
     "name": "stdout",
     "output_type": "stream",
     "text": [
      "(418,)\n",
      "Accuracy:  0.9330143540669856\n"
     ]
    },
    {
     "data": {
      "image/png": "[encoded data removed]",
      "text/plain": [
       "<Figure size 432x288 with 1 Axes>"
      ]
     },
     "metadata": {
      "image/png": {
       "height": 263,
       "width": 373
      },
      "needs_background": "light"
     },
     "output_type": "display_data"
    }
   ],
   "source": [
    "from sklearn.metrics import precision_recall_curve\n",
    "from sklearn.metrics import accuracy_score,mean_squared_error\n",
    "\n",
    "y_pred = model.predict(test_df)\n",
    "y_pred = y_pred.flatten()\n",
    "print(y_pred.shape)\n",
    "y_pred = np.where(y_pred<.5,0,1)\n",
    "\n",
    "test_submission = \"gender_submission.csv\"\n",
    "submission_df = pd.read_csv(test_submission)\n",
    "submission_targets = submission_df['Survived'].values\n",
    "plt.plot(submission_targets)\n",
    "plt.plot(y_pred)\n",
    "plt.title('Prediction')\n",
    "print(\"Accuracy: \", accuracy_score(submission_targets,y_pred))\n"
   ]
  },
  {
   "cell_type": "markdown",
   "metadata": {},
   "source": [
    "## Other Classification techniques <a class=\"anchor\" id=\"twelfth-bullet\"></a>"
   ]
  },
  {
   "cell_type": "code",
   "execution_count": 38,
   "metadata": {},
   "outputs": [],
   "source": [
    "from sklearn.linear_model import LinearRegression,LogisticRegression\n",
    "from sklearn.tree import DecisionTreeRegressor,DecisionTreeClassifier\n",
    "from sklearn.ensemble import RandomForestRegressor,RandomForestClassifier\n",
    "from sklearn.ensemble import GradientBoostingRegressor,GradientBoostingClassifier\n",
    "from sklearn.ensemble import AdaBoostRegressor,AdaBoostClassifier\n",
    "from sklearn.ensemble import ExtraTreesRegressor,ExtraTreesClassifier\n",
    "from sklearn.neighbors import KNeighborsRegressor,KNeighborsClassifier\n",
    "from sklearn.svm import SVR,SVC\n",
    "from sklearn.naive_bayes import GaussianNB\n",
    "\n",
    "from sklearn.metrics import accuracy_score,mean_squared_error"
   ]
  },
  {
   "cell_type": "code",
   "execution_count": 39,
   "metadata": {},
   "outputs": [
    {
     "name": "stderr",
     "output_type": "stream",
     "text": [
      "/Users/sganesh/anaconda3/envs/tensorflow/lib/python3.5/site-packages/sklearn/linear_model/logistic.py:432: FutureWarning: Default solver will be changed to 'lbfgs' in 0.22. Specify a solver to silence this warning.\n",
      "  FutureWarning)\n",
      "/Users/sganesh/anaconda3/envs/tensorflow/lib/python3.5/site-packages/sklearn/ensemble/forest.py:248: FutureWarning: The default value of n_estimators will change from 10 in version 0.20 to 100 in 0.22.\n",
      "  \"10 in version 0.20 to 100 in 0.22.\", FutureWarning)\n",
      "/Users/sganesh/anaconda3/envs/tensorflow/lib/python3.5/site-packages/sklearn/ensemble/forest.py:248: FutureWarning: The default value of n_estimators will change from 10 in version 0.20 to 100 in 0.22.\n",
      "  \"10 in version 0.20 to 100 in 0.22.\", FutureWarning)\n",
      "/Users/sganesh/anaconda3/envs/tensorflow/lib/python3.5/site-packages/sklearn/svm/base.py:196: FutureWarning: The default value of gamma will change from 'auto' to 'scale' in version 0.22 to account better for unscaled features. Set gamma explicitly to 'auto' or 'scale' to avoid this warning.\n",
      "  \"avoid this warning.\", FutureWarning)\n"
     ]
    },
    {
     "name": "stdout",
     "output_type": "stream",
     "text": [
      "Logistic Regression : 0.7988826815642458\n",
      "Decision Tree Classification : 0.8547486033519553\n",
      "Random Forest Classification : 0.8659217877094972\n",
      "Gradient Boosting Classification : 0.8212290502793296\n",
      "Ada Boosting Classification : 0.8212290502793296\n",
      "Extra Tree Classification : 0.8379888268156425\n",
      "K-Neighbors Classification : 0.8379888268156425\n",
      "Support Vector Classification : 0.8268156424581006\n",
      "Gausian Naive Bayes : 0.8044692737430168\n"
     ]
    }
   ],
   "source": [
    "classifiers=[['Logistic Regression :',LogisticRegression()],\n",
    "       ['Decision Tree Classification :',DecisionTreeClassifier()],\n",
    "       ['Random Forest Classification :',RandomForestClassifier()],\n",
    "       ['Gradient Boosting Classification :', GradientBoostingClassifier()],\n",
    "       ['Ada Boosting Classification :',AdaBoostClassifier()],\n",
    "       ['Extra Tree Classification :', ExtraTreesClassifier()],\n",
    "       ['K-Neighbors Classification :',KNeighborsClassifier()],\n",
    "       ['Support Vector Classification :',SVC()],\n",
    "       ['Gausian Naive Bayes :',GaussianNB()]]\n",
    "cla_pred=[]\n",
    "for name,model in classifiers:\n",
    "    model=model\n",
    "    model.fit(train_features,train_targets)\n",
    "    predictions = model.predict(test_features)\n",
    "    cla_pred.append(accuracy_score(test_targets,predictions))\n",
    "    print(name,accuracy_score(test_targets,predictions))"
   ]
  },
  {
   "cell_type": "code",
   "execution_count": 40,
   "metadata": {},
   "outputs": [
    {
     "data": {
      "text/plain": [
       "Text(0.5, 0, 'Accuracy')"
      ]
     },
     "execution_count": 40,
     "metadata": {},
     "output_type": "execute_result"
    },
    {
     "data": {
      "image/png": "[encoded data removed]",
      "text/plain": [
       "<Figure size 432x288 with 1 Axes>"
      ]
     },
     "metadata": {
      "image/png": {
       "height": 263,
       "width": 497
      },
      "needs_background": "light"
     },
     "output_type": "display_data"
    }
   ],
   "source": [
    "y_ax=['Logistic Regression' ,\n",
    "      'Decision Tree Classifier',\n",
    "      'Random Forest Classifier',\n",
    "      'Gradient Boosting Classifier',\n",
    "      'Ada Boosting Classifier',\n",
    "      'Extra Tree Classifier' ,\n",
    "      'K-Neighbors Classifier',\n",
    "      'Support Vector Classifier',\n",
    "       'Gaussian Naive Bayes']\n",
    "x_ax=cla_pred\n",
    "sns.barplot(x=x_ax,y=y_ax)\n",
    "plt.xlabel('Accuracy')"
   ]
  },
  {
   "cell_type": "markdown",
   "metadata": {},
   "source": [
    "# Submission <a class=\"anchor\" id=\"thirteenth-bullet\"></a>"
   ]
  },
  {
   "cell_type": "code",
   "execution_count": 41,
   "metadata": {},
   "outputs": [],
   "source": [
    "# Generate Submission File \n",
    "Submission = pd.DataFrame({'PassengerId': PassengerId,\n",
    "                            'Survived': y_pred })\n",
    "Submission.to_csv(\"Submission.csv\", index=False)\n",
    "\n"
   ]
  }
 ],
 "metadata": {
  "kernelspec": {
   "display_name": "Python 3",
   "language": "python",
   "name": "python3"
  },
  "language_info": {
   "codemirror_mode": {
    "name": "ipython",
    "version": 3
   },
   "file_extension": ".py",
   "mimetype": "text/x-python",
   "name": "python",
   "nbconvert_exporter": "python",
   "pygments_lexer": "ipython3",
   "version": "3.5.6"
  }
 },
 "nbformat": 4,
 "nbformat_minor": 2
}
